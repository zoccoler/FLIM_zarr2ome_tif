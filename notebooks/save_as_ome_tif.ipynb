{
 "cells": [
  {
   "cell_type": "code",
   "execution_count": 1,
   "metadata": {},
   "outputs": [],
   "source": [
    "from pathlib import Path\n",
    "import numpy as np\n",
    "import tifffile\n",
    "from napari_flim_phasor_plotter._reader import read_stack"
   ]
  },
  {
   "cell_type": "code",
   "execution_count": 2,
   "metadata": {},
   "outputs": [],
   "source": [
    "zarr_stack_path = Path(r\"D:\\Datasets\\FLIM\\Lifetime Unmixing Project\\TMR31_3_sptw\\TMR31_3_ptu\\TMR31_3_ptu.zarr\")\n",
    "zarr_stack_path = Path(r\"D:\\Datasets\\FLIM\\ptu_files\\z_stack\\stack_smaller\\stack_smaller.zarr\")\n",
    "\n",
    "pixel_size_x = 0.2696\n",
    "pixel_size_y = 0.2696\n",
    "pixel_size_z = 1\n",
    "pixel_size_unit = 'µm'\n",
    "u_time_resolution = 12.5\n",
    "u_time_unit = 'ps'\n",
    "channel_names = ['Centrosomes', 'Membrane and Chromatin']"
   ]
  },
  {
   "cell_type": "code",
   "execution_count": 3,
   "metadata": {},
   "outputs": [
    {
     "data": {
      "text/plain": [
       "WindowsPath('D:/Datasets/FLIM/ptu_files/z_stack/stack_smaller')"
      ]
     },
     "execution_count": 3,
     "metadata": {},
     "output_type": "execute_result"
    }
   ],
   "source": [
    "zarr_stack_path.parent"
   ]
  },
  {
   "cell_type": "code",
   "execution_count": 4,
   "metadata": {},
   "outputs": [
    {
     "name": "stdout",
     "output_type": "stream",
     "text": [
      "stack = True \n",
      "data type:  .zarr \n",
      "data_shape =  (2, 136, 1, 44, 256, 256) \n",
      "\n"
     ]
    }
   ],
   "source": [
    "stack, metadata = read_stack(zarr_stack_path)"
   ]
  },
  {
   "cell_type": "markdown",
   "metadata": {},
   "source": [
    "Save flim dimension as if it were time. One time point per file. it seems to work with zarr, but zarr file has no metadata, so it must be added manually before saving."
   ]
  },
  {
   "cell_type": "code",
   "execution_count": 7,
   "metadata": {},
   "outputs": [
    {
     "name": "stdout",
     "output_type": "stream",
     "text": [
      "0\n"
     ]
    },
    {
     "ename": "KeyboardInterrupt",
     "evalue": "",
     "output_type": "error",
     "traceback": [
      "\u001b[1;31m---------------------------------------------------------------------------\u001b[0m",
      "\u001b[1;31mKeyboardInterrupt\u001b[0m                         Traceback (most recent call last)",
      "Cell \u001b[1;32mIn[7], line 31\u001b[0m\n\u001b[0;32m     29\u001b[0m output_path \u001b[38;5;241m=\u001b[39m output_dir \u001b[38;5;241m/\u001b[39m output_file_name\n\u001b[0;32m     30\u001b[0m \u001b[38;5;28;01mwith\u001b[39;00m tifffile\u001b[38;5;241m.\u001b[39mTiffWriter(output_path, ome\u001b[38;5;241m=\u001b[39m\u001b[38;5;28;01mTrue\u001b[39;00m) \u001b[38;5;28;01mas\u001b[39;00m tif:\n\u001b[1;32m---> 31\u001b[0m     \u001b[43mtif\u001b[49m\u001b[38;5;241;43m.\u001b[39;49m\u001b[43mwrite\u001b[49m\u001b[43m(\u001b[49m\u001b[43mstack\u001b[49m\u001b[43m[\u001b[49m\u001b[43m:\u001b[49m\u001b[43m,\u001b[49m\u001b[43m:\u001b[49m\u001b[43m,\u001b[49m\u001b[43mt\u001b[49m\u001b[43m]\u001b[49m\u001b[43m,\u001b[49m\u001b[43m \u001b[49m\u001b[43mmetadata\u001b[49m\u001b[38;5;241;43m=\u001b[39;49m\u001b[43mome_metadata\u001b[49m\u001b[43m,\u001b[49m\u001b[43m \u001b[49m\u001b[43mcompression\u001b[49m\u001b[38;5;241;43m=\u001b[39;49m\u001b[38;5;124;43m'\u001b[39;49m\u001b[38;5;124;43mzlib\u001b[39;49m\u001b[38;5;124;43m'\u001b[39;49m\u001b[43m)\u001b[49m\n\u001b[0;32m     32\u001b[0m \u001b[38;5;28;01mif\u001b[39;00m t\u001b[38;5;241m==\u001b[39m\u001b[38;5;241m0\u001b[39m:\n\u001b[0;32m     33\u001b[0m     \u001b[38;5;28;01mbreak\u001b[39;00m\n",
      "File \u001b[1;32mc:\\Users\\mazo260d\\mambaforge\\envs\\zarr2ometif\\lib\\site-packages\\tifffile\\tifffile.py:3565\u001b[0m, in \u001b[0;36mTiffWriter.write\u001b[1;34m(***failed resolving arguments***)\u001b[0m\n\u001b[0;32m   3563\u001b[0m \u001b[38;5;28;01massert\u001b[39;00m dataiter \u001b[38;5;129;01mis\u001b[39;00m \u001b[38;5;129;01mnot\u001b[39;00m \u001b[38;5;28;01mNone\u001b[39;00m\n\u001b[0;32m   3564\u001b[0m \u001b[38;5;28;01mfor\u001b[39;00m chunkindex \u001b[38;5;129;01min\u001b[39;00m \u001b[38;5;28mrange\u001b[39m(numtiles \u001b[38;5;28;01mif\u001b[39;00m tile \u001b[38;5;28;01melse\u001b[39;00m numstrips):\n\u001b[1;32m-> 3565\u001b[0m     iteritem \u001b[38;5;241m=\u001b[39m cast(\u001b[38;5;28mbytes\u001b[39m, \u001b[38;5;28;43mnext\u001b[39;49m\u001b[43m(\u001b[49m\u001b[43mdataiter\u001b[49m\u001b[43m)\u001b[49m)\n\u001b[0;32m   3566\u001b[0m     \u001b[38;5;66;03m# assert isinstance(iteritem, bytes)\u001b[39;00m\n\u001b[0;32m   3567\u001b[0m     databytecounts[chunkindex] \u001b[38;5;241m=\u001b[39m \u001b[38;5;28mlen\u001b[39m(iteritem)\n",
      "File \u001b[1;32mc:\\Users\\mazo260d\\mambaforge\\envs\\zarr2ometif\\lib\\site-packages\\tifffile\\tifffile.py:22425\u001b[0m, in \u001b[0;36mencode_chunks\u001b[1;34m(numchunks, chunkiter, encode, shape, dtype, maxworkers, buffersize, istile)\u001b[0m\n\u001b[0;32m  22423\u001b[0m chunk_list\u001b[38;5;241m.\u001b[39mappend(chunk)  \u001b[38;5;66;03m# type: ignore\u001b[39;00m\n\u001b[0;32m  22424\u001b[0m \u001b[38;5;28;01mif\u001b[39;00m count \u001b[38;5;241m==\u001b[39m maxchunks:\n\u001b[1;32m> 22425\u001b[0m     \u001b[38;5;28;01myield from\u001b[39;00m executor\u001b[38;5;241m.\u001b[39mmap(func, chunk_list)\n\u001b[0;32m  22426\u001b[0m     chunk_list\u001b[38;5;241m.\u001b[39mclear()\n\u001b[0;32m  22427\u001b[0m     count \u001b[38;5;241m=\u001b[39m \u001b[38;5;241m0\u001b[39m\n",
      "File \u001b[1;32mc:\\Users\\mazo260d\\mambaforge\\envs\\zarr2ometif\\lib\\concurrent\\futures\\_base.py:609\u001b[0m, in \u001b[0;36mExecutor.map.<locals>.result_iterator\u001b[1;34m()\u001b[0m\n\u001b[0;32m    606\u001b[0m \u001b[38;5;28;01mwhile\u001b[39;00m fs:\n\u001b[0;32m    607\u001b[0m     \u001b[38;5;66;03m# Careful not to keep a reference to the popped future\u001b[39;00m\n\u001b[0;32m    608\u001b[0m     \u001b[38;5;28;01mif\u001b[39;00m timeout \u001b[38;5;129;01mis\u001b[39;00m \u001b[38;5;28;01mNone\u001b[39;00m:\n\u001b[1;32m--> 609\u001b[0m         \u001b[38;5;28;01myield\u001b[39;00m \u001b[43mfs\u001b[49m\u001b[38;5;241;43m.\u001b[39;49m\u001b[43mpop\u001b[49m\u001b[43m(\u001b[49m\u001b[43m)\u001b[49m\u001b[38;5;241;43m.\u001b[39;49m\u001b[43mresult\u001b[49m\u001b[43m(\u001b[49m\u001b[43m)\u001b[49m\n\u001b[0;32m    610\u001b[0m     \u001b[38;5;28;01melse\u001b[39;00m:\n\u001b[0;32m    611\u001b[0m         \u001b[38;5;28;01myield\u001b[39;00m fs\u001b[38;5;241m.\u001b[39mpop()\u001b[38;5;241m.\u001b[39mresult(end_time \u001b[38;5;241m-\u001b[39m time\u001b[38;5;241m.\u001b[39mmonotonic())\n",
      "File \u001b[1;32mc:\\Users\\mazo260d\\mambaforge\\envs\\zarr2ometif\\lib\\concurrent\\futures\\_base.py:441\u001b[0m, in \u001b[0;36mFuture.result\u001b[1;34m(self, timeout)\u001b[0m\n\u001b[0;32m    438\u001b[0m \u001b[38;5;28;01melif\u001b[39;00m \u001b[38;5;28mself\u001b[39m\u001b[38;5;241m.\u001b[39m_state \u001b[38;5;241m==\u001b[39m FINISHED:\n\u001b[0;32m    439\u001b[0m     \u001b[38;5;28;01mreturn\u001b[39;00m \u001b[38;5;28mself\u001b[39m\u001b[38;5;241m.\u001b[39m__get_result()\n\u001b[1;32m--> 441\u001b[0m \u001b[38;5;28;43mself\u001b[39;49m\u001b[38;5;241;43m.\u001b[39;49m\u001b[43m_condition\u001b[49m\u001b[38;5;241;43m.\u001b[39;49m\u001b[43mwait\u001b[49m\u001b[43m(\u001b[49m\u001b[43mtimeout\u001b[49m\u001b[43m)\u001b[49m\n\u001b[0;32m    443\u001b[0m \u001b[38;5;28;01mif\u001b[39;00m \u001b[38;5;28mself\u001b[39m\u001b[38;5;241m.\u001b[39m_state \u001b[38;5;129;01min\u001b[39;00m [CANCELLED, CANCELLED_AND_NOTIFIED]:\n\u001b[0;32m    444\u001b[0m     \u001b[38;5;28;01mraise\u001b[39;00m CancelledError()\n",
      "File \u001b[1;32mc:\\Users\\mazo260d\\mambaforge\\envs\\zarr2ometif\\lib\\threading.py:312\u001b[0m, in \u001b[0;36mCondition.wait\u001b[1;34m(self, timeout)\u001b[0m\n\u001b[0;32m    310\u001b[0m \u001b[38;5;28;01mtry\u001b[39;00m:    \u001b[38;5;66;03m# restore state no matter what (e.g., KeyboardInterrupt)\u001b[39;00m\n\u001b[0;32m    311\u001b[0m     \u001b[38;5;28;01mif\u001b[39;00m timeout \u001b[38;5;129;01mis\u001b[39;00m \u001b[38;5;28;01mNone\u001b[39;00m:\n\u001b[1;32m--> 312\u001b[0m         \u001b[43mwaiter\u001b[49m\u001b[38;5;241;43m.\u001b[39;49m\u001b[43macquire\u001b[49m\u001b[43m(\u001b[49m\u001b[43m)\u001b[49m\n\u001b[0;32m    313\u001b[0m         gotit \u001b[38;5;241m=\u001b[39m \u001b[38;5;28;01mTrue\u001b[39;00m\n\u001b[0;32m    314\u001b[0m     \u001b[38;5;28;01melse\u001b[39;00m:\n",
      "\u001b[1;31mKeyboardInterrupt\u001b[0m: "
     ]
    }
   ],
   "source": [
    "# Define the metadata for OME-TIFF\n",
    "ome_metadata = {\n",
    "    'axes': 'CTZYX',\n",
    "    'PhysicalSizeX': pixel_size_x,\n",
    "    'PhysicalSizeXUnit': pixel_size_unit,\n",
    "    'PhysicalSizeY': pixel_size_y,\n",
    "    'PhysicalSizeYUnit': pixel_size_unit,\n",
    "    'PhysicalSizeZ': pixel_size_z,\n",
    "    'PhysicalSizeZUnit': pixel_size_unit,\n",
    "    'TimeIncrement': u_time_resolution,\n",
    "    'TimeIncrementUnit': u_time_unit,\n",
    "    'Channel': {'Name': [f'{channel}' for channel in channel_names]},\n",
    "}\n",
    "\n",
    "output_dir = zarr_stack_path.parent / 'OME_TIF'\n",
    "output_dir.mkdir(exist_ok=True, parents=True)\n",
    "\n",
    "for t in range(stack.shape[2]):\n",
    "    print(t)\n",
    "    # Save the image as an OME-TIFF with lossless compression\n",
    "    if stack.shape[2] == 1:\n",
    "        output_file_name = zarr_stack_path.stem + '.ome.tif'\n",
    "        ome_metadata['Name'] = zarr_stack_path.stem\n",
    "    else:\n",
    "        # get time with leading zeros\n",
    "        t_string = str(t).zfill(len(str(stack.shape[2])))\n",
    "        output_file_name = zarr_stack_path.stem + f'_t{t_string}.ome.tif'\n",
    "        ome_metadata['Name'] = zarr_stack_path.stem + f'_t{t_string}'\n",
    "    output_path = output_dir / output_file_name\n",
    "    with tifffile.TiffWriter(output_path, ome=True) as tif:\n",
    "        tif.write(stack[:,:,t], metadata=ome_metadata, compression='zlib')\n",
    "    # if t==0:\n",
    "    #     break"
   ]
  },
  {
   "cell_type": "code",
   "execution_count": null,
   "metadata": {},
   "outputs": [],
   "source": []
  }
 ],
 "metadata": {
  "kernelspec": {
   "display_name": "napari-flim-dev",
   "language": "python",
   "name": "python3"
  },
  "language_info": {
   "codemirror_mode": {
    "name": "ipython",
    "version": 3
   },
   "file_extension": ".py",
   "mimetype": "text/x-python",
   "name": "python",
   "nbconvert_exporter": "python",
   "pygments_lexer": "ipython3",
   "version": "3.9.19"
  }
 },
 "nbformat": 4,
 "nbformat_minor": 2
}
